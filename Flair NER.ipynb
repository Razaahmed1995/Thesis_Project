{
 "cells": [
  {
   "cell_type": "code",
   "execution_count": 1,
   "id": "85bf0538",
   "metadata": {},
   "outputs": [],
   "source": [
    "import nltk\n",
    "import re\n",
    "import pandas as pd\n",
    "import numpy as np\n",
    "from collections import Counter\n",
    "import tqdm\n",
    "import pickle as pk\n",
    "from bs4 import BeautifulSoup\n",
    "from collections import OrderedDict\n",
    "\n",
    "import warnings\n",
    "warnings.filterwarnings(\"ignore\")\n"
   ]
  },
  {
   "cell_type": "code",
   "execution_count": 2,
   "id": "8ef3e468",
   "metadata": {},
   "outputs": [],
   "source": [
    "from collections import Iterable\n",
    "def flatten(lis):\n",
    "     for item in lis:\n",
    "         if isinstance(item, Iterable) and not isinstance(item, str):\n",
    "             for x in flatten(item):\n",
    "                 yield x\n",
    "         else:        \n",
    "             yield item\n"
   ]
  },
  {
   "cell_type": "markdown",
   "id": "aeee4aef",
   "metadata": {},
   "source": [
    "# Using xml.sax parser to get the text data from the xml file"
   ]
  },
  {
   "cell_type": "code",
   "execution_count": 3,
   "id": "6e9faebb",
   "metadata": {},
   "outputs": [],
   "source": [
    "import numpy as np\n",
    "import xml.sax\n",
    "Text = []\n",
    "\n",
    "class StreamHandler(xml.sax.handler.ContentHandler):\n",
    "  inText = False\n",
    "  lastRevision = 0\n",
    "  \n",
    "  def startElement(self, name, attrs):\n",
    "    if name == 'text':\n",
    "      self.inText = True\n",
    "      self.content = ''\n",
    "    if name == 'revision':\n",
    "      self.lastRevision += 1\n",
    "\n",
    "  def endElement(self, name):\n",
    "    if name == 'text':\n",
    "      self.inText = False\n",
    "      Text.append(self.content)      \n",
    " \n",
    "  def characters(self, content):\n",
    "    if self.inText:\n",
    "      self.content += content\n",
    "    \n",
    "if __name__ == '__main__':\n",
    "  # use default ``xml.sax.expatreader``\n",
    "  parser = xml.sax.make_parser()\n",
    "  parser.setContentHandler(StreamHandler())\n",
    "for idx in range(1):\n",
    "    with open('509th_Composite_Group_' + str(idx) + \".xml\", 'r', errors='ignore') as f:\n",
    "      parser.parse(f)"
   ]
  },
  {
   "cell_type": "markdown",
   "id": "2eaf0027",
   "metadata": {},
   "source": [
    "# Preprocessing the text data"
   ]
  },
  {
   "cell_type": "code",
   "execution_count": 4,
   "id": "081777b9",
   "metadata": {},
   "outputs": [],
   "source": [
    "def preprocessing(text):\n",
    "    text= BeautifulSoup(text, 'html.parser').get_text() #remove_html_tags_func\n",
    "    text=re.sub(r'https?://\\S+|www\\.\\S+', '', text) #remove_url_func\n",
    "    text=re.sub(r'[^a-zA-Z0-9]', ' ', text) #remove puntuation\n",
    "    text=re.sub(r'^\\s*|\\s\\s*', ' ', text).strip() #remove_extra_whitespaces_func\n",
    "    return text\n",
    "    "
   ]
  },
  {
   "cell_type": "code",
   "execution_count": 5,
   "id": "2551305e",
   "metadata": {},
   "outputs": [],
   "source": [
    "Corpus=list(map(preprocessing, Text))"
   ]
  },
  {
   "cell_type": "markdown",
   "id": "26a0298d",
   "metadata": {},
   "source": [
    "# Using Flair NER to get entities of interest"
   ]
  },
  {
   "cell_type": "code",
   "execution_count": 6,
   "id": "197ac911",
   "metadata": {},
   "outputs": [
    {
     "name": "stdout",
     "output_type": "stream",
     "text": [
      "2022-09-23 21:57:29,905 loading file C:\\Users\\razaa\\.flair\\models\\ner-english-fast\\4c58e7191ff952c030b82db25b3694b58800b0e722ff15427f527e1631ed6142.e13c7c4664ffe2bbfa8f1f5375bd0dced866b8c1dd7ff89a6d705518abf0a611\n",
      "2022-09-23 21:57:36,619 SequenceTagger predicts: Dictionary with 20 tags: <unk>, O, S-ORG, S-MISC, B-PER, E-PER, S-LOC, B-ORG, E-ORG, I-PER, S-PER, B-MISC, I-MISC, E-MISC, I-ORG, B-LOC, E-LOC, I-LOC, <START>, <STOP>\n"
     ]
    }
   ],
   "source": [
    "from flair.data import Sentence\n",
    "from flair.models import SequenceTagger\n",
    "tagger = SequenceTagger.load(\"flair/ner-english-fast\")"
   ]
  },
  {
   "cell_type": "code",
   "execution_count": 7,
   "id": "87c31720",
   "metadata": {},
   "outputs": [
    {
     "name": "stderr",
     "output_type": "stream",
     "text": [
      "100%|██████████████████████████████████████████████████████████████████████████████████| 10/10 [06:43<00:00, 40.32s/it]\n"
     ]
    },
    {
     "data": {
      "text/html": [
       "<div>\n",
       "<style scoped>\n",
       "    .dataframe tbody tr th:only-of-type {\n",
       "        vertical-align: middle;\n",
       "    }\n",
       "\n",
       "    .dataframe tbody tr th {\n",
       "        vertical-align: top;\n",
       "    }\n",
       "\n",
       "    .dataframe thead th {\n",
       "        text-align: right;\n",
       "    }\n",
       "</style>\n",
       "<table border=\"1\" class=\"dataframe\">\n",
       "  <thead>\n",
       "    <tr style=\"text-align: right;\">\n",
       "      <th></th>\n",
       "      <th>index</th>\n",
       "      <th>0</th>\n",
       "      <th>revision</th>\n",
       "    </tr>\n",
       "  </thead>\n",
       "  <tbody>\n",
       "    <tr>\n",
       "      <th>0</th>\n",
       "      <td>Paul Tibbets</td>\n",
       "      <td>1.0</td>\n",
       "      <td>2</td>\n",
       "    </tr>\n",
       "    <tr>\n",
       "      <th>1</th>\n",
       "      <td>Paul W Tibbets Jr</td>\n",
       "      <td>1.0</td>\n",
       "      <td>2</td>\n",
       "    </tr>\n",
       "    <tr>\n",
       "      <th>2</th>\n",
       "      <td>Charles Sweeney</td>\n",
       "      <td>1.0</td>\n",
       "      <td>2</td>\n",
       "    </tr>\n",
       "    <tr>\n",
       "      <th>3</th>\n",
       "      <td>Paul W Tibbets</td>\n",
       "      <td>3.0</td>\n",
       "      <td>2</td>\n",
       "    </tr>\n",
       "    <tr>\n",
       "      <th>4</th>\n",
       "      <td>Thomas J Classen</td>\n",
       "      <td>3.0</td>\n",
       "      <td>2</td>\n",
       "    </tr>\n",
       "    <tr>\n",
       "      <th>...</th>\n",
       "      <td>...</td>\n",
       "      <td>...</td>\n",
       "      <td>...</td>\n",
       "    </tr>\n",
       "    <tr>\n",
       "      <th>45</th>\n",
       "      <td>LeMay Curtis</td>\n",
       "      <td>1.0</td>\n",
       "      <td>9</td>\n",
       "    </tr>\n",
       "    <tr>\n",
       "      <th>46</th>\n",
       "      <td>Mann Robert</td>\n",
       "      <td>1.0</td>\n",
       "      <td>9</td>\n",
       "    </tr>\n",
       "    <tr>\n",
       "      <th>47</th>\n",
       "      <td>Marx Joseph</td>\n",
       "      <td>1.0</td>\n",
       "      <td>9</td>\n",
       "    </tr>\n",
       "    <tr>\n",
       "      <th>48</th>\n",
       "      <td>Thomas Gordon</td>\n",
       "      <td>2.0</td>\n",
       "      <td>9</td>\n",
       "    </tr>\n",
       "    <tr>\n",
       "      <th>49</th>\n",
       "      <td>Wheeler Keith Bombers</td>\n",
       "      <td>1.0</td>\n",
       "      <td>9</td>\n",
       "    </tr>\n",
       "  </tbody>\n",
       "</table>\n",
       "<p>411 rows × 3 columns</p>\n",
       "</div>"
      ],
      "text/plain": [
       "                    index    0  revision\n",
       "0            Paul Tibbets  1.0         2\n",
       "1       Paul W Tibbets Jr  1.0         2\n",
       "2         Charles Sweeney  1.0         2\n",
       "3          Paul W Tibbets  3.0         2\n",
       "4        Thomas J Classen  3.0         2\n",
       "..                    ...  ...       ...\n",
       "45           LeMay Curtis  1.0         9\n",
       "46            Mann Robert  1.0         9\n",
       "47            Marx Joseph  1.0         9\n",
       "48          Thomas Gordon  2.0         9\n",
       "49  Wheeler Keith Bombers  1.0         9\n",
       "\n",
       "[411 rows x 3 columns]"
      ]
     },
     "execution_count": 7,
     "metadata": {},
     "output_type": "execute_result"
    }
   ],
   "source": [
    "revisions = []\n",
    "for idx, line in enumerate(tqdm.tqdm(Corpus[0:10])):\n",
    "    persons_in_revision = []\n",
    "    doc = Sentence(line)\n",
    "    tagger.predict(doc)\n",
    "    for entity in doc.get_spans('ner'):\n",
    "        if 'PER' in str(entity.labels):\n",
    "            persons_in_revision.append(entity.text)\n",
    "    df = pd.Series(Counter(persons_in_revision))\n",
    "    df = pd.DataFrame(df)\n",
    "    df['revision'] = idx\n",
    "    revisions.append(df.reset_index())\n",
    "\n",
    "names_from_revisions = pd.concat(revisions)\n",
    "names_from_revisions"
   ]
  },
  {
   "cell_type": "code",
   "execution_count": 8,
   "id": "f3235cf1",
   "metadata": {},
   "outputs": [],
   "source": [
    "interested_person=list(dict.fromkeys(persons_in_revision))"
   ]
  },
  {
   "cell_type": "markdown",
   "id": "b5cb75a6",
   "metadata": {},
   "source": [
    "# Falcon2.0 API used to get the Wikidata Qids"
   ]
  },
  {
   "cell_type": "code",
   "execution_count": 9,
   "id": "965c1c76",
   "metadata": {},
   "outputs": [],
   "source": [
    "import requests\n",
    "import json\n",
    "import pprint\n",
    "                 \n",
    "wiki=[]\n",
    "url=\"https://labs.tib.eu/falcon/falcon2/api?mode=long\"\n",
    "headers = {'Content-type': 'application/json'}\n",
    "for name in interested_person:\n",
    "    data = {\"text\":name }\n",
    "    data_json = json.dumps(data)\n",
    "    response = requests.post(url, data=data_json, headers=headers)\n",
    "    response_1=str(response.content)\n",
    "    wiki.append(response_1)"
   ]
  },
  {
   "cell_type": "code",
   "execution_count": 10,
   "id": "c54682ee",
   "metadata": {},
   "outputs": [],
   "source": [
    "matches=(re.findall(\"Q+[\\d]+(?:\\d)?\",line) for line in wiki)\n",
    "matches = [m for m in matches if m]"
   ]
  },
  {
   "cell_type": "code",
   "execution_count": 11,
   "id": "5539910b",
   "metadata": {},
   "outputs": [],
   "source": [
    "Qid=list(flatten(matches))\n",
    "Qid=list(OrderedDict.fromkeys(Qid))\n",
    "Qid=[\"wd:\" + item for item in Qid ]\n",
    "df=pd.DataFrame()\n",
    "df['wiki_Qid']=Qid"
   ]
  },
  {
   "cell_type": "code",
   "execution_count": 20,
   "id": "27a9ea85",
   "metadata": {},
   "outputs": [],
   "source": [
    "df.to_csv('Wiki_Qid.csv', index=False)\n",
    "names_from_revisions.to_csv('NER_results.csv', index=False)"
   ]
  }
 ],
 "metadata": {
  "kernelspec": {
   "display_name": "Python 3",
   "language": "python",
   "name": "python3"
  },
  "language_info": {
   "codemirror_mode": {
    "name": "ipython",
    "version": 3
   },
   "file_extension": ".py",
   "mimetype": "text/x-python",
   "name": "python",
   "nbconvert_exporter": "python",
   "pygments_lexer": "ipython3",
   "version": "3.8.8"
  }
 },
 "nbformat": 4,
 "nbformat_minor": 5
}
