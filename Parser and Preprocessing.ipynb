{
 "cells": [
  {
   "cell_type": "code",
   "execution_count": 8,
   "id": "415aa5a7",
   "metadata": {},
   "outputs": [],
   "source": [
    "import re"
   ]
  },
  {
   "cell_type": "code",
   "execution_count": 20,
   "id": "af5fd6d6",
   "metadata": {},
   "outputs": [],
   "source": [
    "import nltk"
   ]
  },
  {
   "cell_type": "code",
   "execution_count": 23,
   "id": "e0cf4203",
   "metadata": {},
   "outputs": [],
   "source": [
    "import pandas as pd\n",
    "import numpy as np\n",
    "\n",
    "import pickle as pk\n",
    "\n",
    "import warnings\n",
    "warnings.filterwarnings(\"ignore\")\n",
    "\n",
    "\n",
    "from bs4 import BeautifulSoup\n",
    "import unicodedata\n",
    "import re\n",
    "\n",
    "from nltk.tokenize import word_tokenize\n",
    "from nltk.tokenize import sent_tokenize\n",
    "\n",
    "from nltk.corpus import stopwords\n",
    "\n",
    "\n",
    "from nltk.corpus import wordnet\n",
    "from nltk import pos_tag\n",
    "from nltk import ne_chunk\n",
    "\n",
    "from nltk.stem.porter import PorterStemmer\n",
    "from nltk.stem.wordnet import WordNetLemmatizer\n",
    "\n",
    "from nltk.probability import FreqDist\n",
    "import matplotlib.pyplot as plt\n",
    "from wordcloud import WordCloud"
   ]
  },
  {
   "cell_type": "markdown",
   "id": "aeee4aef",
   "metadata": {},
   "source": [
    "# Using xml.sax parser to get the text data from the xml file"
   ]
  },
  {
   "cell_type": "code",
   "execution_count": 72,
   "id": "6e9faebb",
   "metadata": {},
   "outputs": [],
   "source": [
    "import numpy as np\n",
    "import xml.sax\n",
    "Text = []\n",
    "\n",
    "class StreamHandler(xml.sax.handler.ContentHandler):\n",
    "  inText = False\n",
    "  lastRevision = 0\n",
    "  \n",
    "  def startElement(self, name, attrs):\n",
    "    if name == 'text':\n",
    "      self.inText = True\n",
    "      self.content = ''\n",
    "    if name == 'revision':\n",
    "      self.lastRevision += 1\n",
    "\n",
    "  def endElement(self, name):\n",
    "    if name == 'text':\n",
    "      self.inText = False\n",
    "      Text.append(self.content)      \n",
    " \n",
    "  def characters(self, content):\n",
    "    if self.inText:\n",
    "      self.content += content\n",
    "    \n",
    "if __name__ == '__main__':\n",
    "  # use default ``xml.sax.expatreader``\n",
    "  parser = xml.sax.make_parser()\n",
    "  parser.setContentHandler(StreamHandler())\n",
    "for idx in range(1):\n",
    "    with open('509th_Composite_Group_' + str(idx) + \".xml\", 'r', errors='ignore') as f:\n",
    "      parser.parse(f)"
   ]
  },
  {
   "cell_type": "markdown",
   "id": "18cb5137",
   "metadata": {},
   "source": [
    "# Preprocessing the text data"
   ]
  },
  {
   "cell_type": "code",
   "execution_count": 73,
   "id": "27daad1b",
   "metadata": {},
   "outputs": [],
   "source": [
    "def preprocessing(text):\n",
    "    text= BeautifulSoup(text, 'html.parser').get_text() #remove_html_tags_func\n",
    "    text=re.sub(r'https?://\\S+|www\\.\\S+', '', text) #remove_url_func\n",
    "    text=re.sub(r'[^a-zA-Z0-9]', ' ', text) #remove puntuation\n",
    "    text=re.sub(r'^\\s*|\\s\\s*', ' ', text).strip() #remove_extra_whitespaces_func\n",
    "    return text\n",
    "    "
   ]
  },
  {
   "cell_type": "code",
   "execution_count": 74,
   "id": "2551305e",
   "metadata": {},
   "outputs": [],
   "source": [
    "Corpus=list(map(preprocessing, Text))"
   ]
  },
  {
   "cell_type": "code",
   "execution_count": null,
   "id": "7f46aa49",
   "metadata": {},
   "outputs": [
    {
     "name": "stderr",
     "output_type": "stream",
     "text": [
      "No model was supplied, defaulted to dbmdz/bert-large-cased-finetuned-conll03-english and revision f2482bf (https://huggingface.co/dbmdz/bert-large-cased-finetuned-conll03-english).\n",
      "Using a pipeline without specifying a model name and revision in production is not recommended.\n"
     ]
    },
    {
     "data": {
      "application/vnd.jupyter.widget-view+json": {
       "model_id": "305b15a29c2840e1a79d375fd654c93f",
       "version_major": 2,
       "version_minor": 0
      },
      "text/plain": [
       "Downloading:   0%|          | 0.00/1.33G [00:00<?, ?B/s]"
      ]
     },
     "metadata": {},
     "output_type": "display_data"
    }
   ],
   "source": [
    "from transformers import pipeline\n",
    "nlp_bert_lg = pipeline('ner', grouped_entities=True)"
   ]
  },
  {
   "cell_type": "code",
   "execution_count": null,
   "id": "033491ed",
   "metadata": {},
   "outputs": [],
   "source": []
  }
 ],
 "metadata": {
  "kernelspec": {
   "display_name": "Python 3",
   "language": "python",
   "name": "python3"
  },
  "language_info": {
   "codemirror_mode": {
    "name": "ipython",
    "version": 3
   },
   "file_extension": ".py",
   "mimetype": "text/x-python",
   "name": "python",
   "nbconvert_exporter": "python",
   "pygments_lexer": "ipython3",
   "version": "3.8.8"
  }
 },
 "nbformat": 4,
 "nbformat_minor": 5
}
